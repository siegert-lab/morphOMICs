{
 "cells": [
  {
   "cell_type": "code",
   "execution_count": null,
   "metadata": {},
   "outputs": [],
   "source": [
    "%load_ext autoreload\n",
    "%autoreload 2"
   ]
  },
  {
   "cell_type": "code",
   "execution_count": null,
   "metadata": {},
   "outputs": [],
   "source": [
    "from morphomics import pipeline\n",
    "from io import io\n",
    "import tomli\n",
    "import os\n",
    "\n",
    "# Path to the toml file. Contains the parameters for each protocol\n",
    "parameters_filepath = \"examples/Parameter_files/Morphomics.Parameters.toml\"\n",
    "\n",
    "# read the toml file\n",
    "with open(parameters_filepath, mode=\"rb\") as _parameter_file:\n",
    "    parameters = tomli.load(_parameter_file)\n",
    "\n",
    "# get the protocol\n",
    "# from already saved protocol\n",
    "# or initialize a new protocol with parameters\n",
    "last_instance_path = os.path.join(parameters[\"path_to_last_instance\"], f'last_instance_{parameters[\"Parameters_ID\"]}')\n",
    "if parameters[\"load_previous_instance\"]:\n",
    "    my_pipeline = io.load_obj(last_instance_path)\n",
    "else:\n",
    "    my_pipeline = pipeline.Pipeline(parameters, parameters[\"Parameters_ID\"])\n",
    "\n",
    "# run the protocols in row\n",
    "protocol_list = parameters[\"Protocols\"]\n",
    "for protocol in protocol_list:\n",
    "    print(\"Doing %s...\"%protocol)\n",
    "    perform_this = getattr(my_pipeline, protocol)\n",
    "    perform_this()\n",
    "if parameters[\"save_instance\"]:\n",
    "    new_instance_path = os.path.join(parameters[\"path_to_new_instance\"], f'last_instance_{parameters[\"Parameters_ID\"]}')\n",
    "    io.save_obj(my_pipeline, new_instance_path)\n"
   ]
  },
  {
   "cell_type": "code",
   "execution_count": 5,
   "metadata": {},
   "outputs": [
    {
     "data": {
      "text/plain": [
       "dict_keys(['morphoframe', 'bootstrap_frame'])"
      ]
     },
     "execution_count": 5,
     "metadata": {},
     "output_type": "execute_result"
    }
   ],
   "source": [
    "my_pipeline.morphoframe.keys()"
   ]
  }
 ],
 "metadata": {
  "kernelspec": {
   "display_name": "morphomics",
   "language": "python",
   "name": "python3"
  },
  "language_info": {
   "codemirror_mode": {
    "name": "ipython",
    "version": 3
   },
   "file_extension": ".py",
   "mimetype": "text/x-python",
   "name": "python",
   "nbconvert_exporter": "python",
   "pygments_lexer": "ipython3",
   "version": "3.9.19"
  }
 },
 "nbformat": 4,
 "nbformat_minor": 2
}
